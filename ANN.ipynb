{
  "nbformat": 4,
  "nbformat_minor": 0,
  "metadata": {
    "colab": {
      "name": "ANN.ipynb",
      "version": "0.3.2",
      "provenance": [],
      "toc_visible": true
    },
    "kernelspec": {
      "name": "python3",
      "display_name": "Python 3"
    }
  },
  "cells": [
    {
      "cell_type": "code",
      "metadata": {
        "id": "fQR_r4onSlHr",
        "colab_type": "code",
        "outputId": "1e7ba2f5-aab6-4c60-bec9-07909ab2fbe9",
        "colab": {
          "base_uri": "https://localhost:8080/",
          "height": 155
        }
      },
      "source": [
        "import numpy as np\n",
        "import pandas as pd\n",
        "data = pd.read_csv(\"Churn_Modelling.csv\")\n",
        "print(data.head())"
      ],
      "execution_count": 1,
      "outputs": [
        {
          "output_type": "stream",
          "text": [
            "   RowNumber  CustomerId   Surname  ...  IsActiveMember EstimatedSalary Exited\n",
            "0          1    15634602  Hargrave  ...               1       101348.88      1\n",
            "1          2    15647311      Hill  ...               1       112542.58      0\n",
            "2          3    15619304      Onio  ...               0       113931.57      1\n",
            "3          4    15701354      Boni  ...               0        93826.63      0\n",
            "4          5    15737888  Mitchell  ...               1        79084.10      0\n",
            "\n",
            "[5 rows x 14 columns]\n"
          ],
          "name": "stdout"
        }
      ]
    },
    {
      "cell_type": "markdown",
      "metadata": {
        "id": "vS2DD2GKeICV",
        "colab_type": "text"
      },
      "source": [
        "#**DATA** **PREPROCESSING**"
      ]
    },
    {
      "cell_type": "code",
      "metadata": {
        "id": "Fz1Q0Nt3bS-7",
        "colab_type": "code",
        "outputId": "11c2f769-ddbf-4d3c-9c05-bcd192e3bfb0",
        "colab": {
          "base_uri": "https://localhost:8080/",
          "height": 86
        }
      },
      "source": [
        "print(data.columns)"
      ],
      "execution_count": 2,
      "outputs": [
        {
          "output_type": "stream",
          "text": [
            "Index(['RowNumber', 'CustomerId', 'Surname', 'CreditScore', 'Geography',\n",
            "       'Gender', 'Age', 'Tenure', 'Balance', 'NumOfProducts', 'HasCrCard',\n",
            "       'IsActiveMember', 'EstimatedSalary', 'Exited'],\n",
            "      dtype='object')\n"
          ],
          "name": "stdout"
        }
      ]
    },
    {
      "cell_type": "code",
      "metadata": {
        "id": "Knv-G88HeFC0",
        "colab_type": "code",
        "outputId": "199dd23e-81b2-48a3-c869-2af39de39767",
        "colab": {
          "base_uri": "https://localhost:8080/",
          "height": 259
        }
      },
      "source": [
        "X = data.iloc[:,3:13].values\n",
        "y = data.iloc[:,13].values\n",
        "\n",
        "frame1 = pd.DataFrame(X)\n",
        "print(frame1.head())\n",
        "frame2 = pd.DataFrame(y)\n",
        "print(frame2.head())\n",
        "print(X.shape)\n",
        "print(frame1[1].unique())"
      ],
      "execution_count": 3,
      "outputs": [
        {
          "output_type": "stream",
          "text": [
            "     0       1       2   3  4        5  6  7  8        9\n",
            "0  619  France  Female  42  2        0  1  1  1   101349\n",
            "1  608   Spain  Female  41  1  83807.9  1  0  1   112543\n",
            "2  502  France  Female  42  8   159661  3  1  0   113932\n",
            "3  699  France  Female  39  1        0  2  0  0  93826.6\n",
            "4  850   Spain  Female  43  2   125511  1  1  1  79084.1\n",
            "   0\n",
            "0  1\n",
            "1  0\n",
            "2  1\n",
            "3  0\n",
            "4  0\n",
            "(10000, 10)\n",
            "['France' 'Spain' 'Germany']\n"
          ],
          "name": "stdout"
        }
      ]
    },
    {
      "cell_type": "markdown",
      "metadata": {
        "id": "1lho2KK_g3je",
        "colab_type": "text"
      },
      "source": [
        "**GET RID OF CATEGORICAL DATA**"
      ]
    },
    {
      "cell_type": "code",
      "metadata": {
        "id": "VosavJAeeXB0",
        "colab_type": "code",
        "outputId": "de297567-f14a-48be-f6af-a004413db315",
        "colab": {
          "base_uri": "https://localhost:8080/",
          "height": 207
        }
      },
      "source": [
        "#checking for any null values\n",
        "frame1.isna().sum()\n"
      ],
      "execution_count": 4,
      "outputs": [
        {
          "output_type": "execute_result",
          "data": {
            "text/plain": [
              "0    0\n",
              "1    0\n",
              "2    0\n",
              "3    0\n",
              "4    0\n",
              "5    0\n",
              "6    0\n",
              "7    0\n",
              "8    0\n",
              "9    0\n",
              "dtype: int64"
            ]
          },
          "metadata": {
            "tags": []
          },
          "execution_count": 4
        }
      ]
    },
    {
      "cell_type": "code",
      "metadata": {
        "id": "je9yMezpig0r",
        "colab_type": "code",
        "outputId": "d7fc34f1-53be-4746-f3ba-cedeacb498e4",
        "colab": {
          "base_uri": "https://localhost:8080/",
          "height": 452
        }
      },
      "source": [
        "from sklearn.preprocessing import LabelEncoder,OneHotEncoder\n",
        "lbx1 = LabelEncoder()\n",
        "lbx2 = LabelEncoder()\n",
        "X[:,1] = lbx1.fit_transform(X[:,1])\n",
        "X[:,2] = lbx2.fit_transform(X[:,2])\n",
        "frame1 = pd.DataFrame(X)\n",
        "print(frame1.head())\n",
        "\n",
        "#WE SHOULD NOT ONEHOTENCODE BINARY CLASSIFICATION I.E MALE AND FEMALE\n",
        "onehotencode = OneHotEncoder(categorical_features = [1])\n",
        "X = onehotencode.fit_transform(X).toarray()\n",
        "\n",
        "frame1 = pd.DataFrame(X)\n",
        "print(frame1.head())\n",
        "\n",
        "\n",
        "#AVOIDING DUMMY TRAP\n",
        "X = X[:,1:]\n",
        "frame1 = pd.DataFrame(X)\n",
        "print(frame1.head())\n"
      ],
      "execution_count": 6,
      "outputs": [
        {
          "output_type": "stream",
          "text": [
            "    0    1      2    3     4    5          6    7    8    9          10\n",
            "0  0.0  0.0  228.0  0.0  42.0  2.0       0.00  1.0  1.0  1.0  101348.88\n",
            "1  0.0  1.0  217.0  0.0  41.0  1.0   83807.86  1.0  0.0  1.0  112542.58\n",
            "2  0.0  0.0  111.0  0.0  42.0  8.0  159660.80  3.0  1.0  0.0  113931.57\n",
            "3  0.0  0.0  308.0  0.0  39.0  1.0       0.00  2.0  0.0  0.0   93826.63\n",
            "4  0.0  1.0  459.0  0.0  43.0  2.0  125510.82  1.0  1.0  1.0   79084.10\n",
            "    0    1    2      3    4     5    6          7    8    9    10         11\n",
            "0  1.0  0.0  0.0  228.0  0.0  42.0  2.0       0.00  1.0  1.0  1.0  101348.88\n",
            "1  0.0  1.0  0.0  217.0  0.0  41.0  1.0   83807.86  1.0  0.0  1.0  112542.58\n",
            "2  1.0  0.0  0.0  111.0  0.0  42.0  8.0  159660.80  3.0  1.0  0.0  113931.57\n",
            "3  1.0  0.0  0.0  308.0  0.0  39.0  1.0       0.00  2.0  0.0  0.0   93826.63\n",
            "4  0.0  1.0  0.0  459.0  0.0  43.0  2.0  125510.82  1.0  1.0  1.0   79084.10\n",
            "    0    1      2    3     4    5          6    7    8    9          10\n",
            "0  0.0  0.0  228.0  0.0  42.0  2.0       0.00  1.0  1.0  1.0  101348.88\n",
            "1  1.0  0.0  217.0  0.0  41.0  1.0   83807.86  1.0  0.0  1.0  112542.58\n",
            "2  0.0  0.0  111.0  0.0  42.0  8.0  159660.80  3.0  1.0  0.0  113931.57\n",
            "3  0.0  0.0  308.0  0.0  39.0  1.0       0.00  2.0  0.0  0.0   93826.63\n",
            "4  1.0  0.0  459.0  0.0  43.0  2.0  125510.82  1.0  1.0  1.0   79084.10\n"
          ],
          "name": "stdout"
        },
        {
          "output_type": "stream",
          "text": [
            "/usr/local/lib/python3.6/dist-packages/sklearn/preprocessing/_encoders.py:415: FutureWarning: The handling of integer data will change in version 0.22. Currently, the categories are determined based on the range [0, max(values)], while in the future they will be determined based on the unique values.\n",
            "If you want the future behaviour and silence this warning, you can specify \"categories='auto'\".\n",
            "In case you used a LabelEncoder before this OneHotEncoder to convert the categories to integers, then you can now use the OneHotEncoder directly.\n",
            "  warnings.warn(msg, FutureWarning)\n",
            "/usr/local/lib/python3.6/dist-packages/sklearn/preprocessing/_encoders.py:451: DeprecationWarning: The 'categorical_features' keyword is deprecated in version 0.20 and will be removed in 0.22. You can use the ColumnTransformer instead.\n",
            "  \"use the ColumnTransformer instead.\", DeprecationWarning)\n"
          ],
          "name": "stderr"
        }
      ]
    },
    {
      "cell_type": "code",
      "metadata": {
        "id": "o1jr6yR1quZB",
        "colab_type": "code",
        "colab": {}
      },
      "source": [
        "#splitting to train test split\n",
        "from sklearn.model_selection import train_test_split\n",
        "X_train,X_test,y_train,y_test = train_test_split(X,y,test_size = 0.2,random_state = 0)"
      ],
      "execution_count": 0,
      "outputs": []
    },
    {
      "cell_type": "code",
      "metadata": {
        "id": "b8wGQKvxKkq4",
        "colab_type": "code",
        "colab": {}
      },
      "source": [
        "#FEATURE SCALING\n",
        "from sklearn.preprocessing import StandardScaler\n",
        "sc = StandardScaler()\n",
        "X_train = sc.fit_transform(X_train)\n",
        "X_test = sc.transform(X_test)\n"
      ],
      "execution_count": 0,
      "outputs": []
    },
    {
      "cell_type": "code",
      "metadata": {
        "id": "E7tehGdQKnnt",
        "colab_type": "code",
        "outputId": "7fa36704-befa-49c4-a990-0d19d56fcb1d",
        "colab": {
          "base_uri": "https://localhost:8080/",
          "height": 155
        }
      },
      "source": [
        "#AFTER FEATURE SCALING\n",
        "frame1 = pd.DataFrame(X_train)\n",
        "print(frame1.head())"
      ],
      "execution_count": 9,
      "outputs": [
        {
          "output_type": "stream",
          "text": [
            "         0         1         2   ...        8         9         10\n",
            "0  1.743090 -0.569844  0.169230  ...  0.642595 -1.032270  1.106432\n",
            "1 -0.573694  1.754865 -2.309590  ...  0.642595  0.968738 -0.748664\n",
            "2 -0.573694 -0.569844 -1.194121  ...  0.642595 -1.032270  1.485335\n",
            "3  1.743090 -0.569844  0.034960  ...  0.642595 -1.032270  1.276528\n",
            "4  1.743090 -0.569844  2.059330  ...  0.642595  0.968738  0.558378\n",
            "\n",
            "[5 rows x 11 columns]\n"
          ],
          "name": "stdout"
        }
      ]
    },
    {
      "cell_type": "markdown",
      "metadata": {
        "id": "eURWXI6WPVJ7",
        "colab_type": "text"
      },
      "source": [
        "**ANN**"
      ]
    },
    {
      "cell_type": "code",
      "metadata": {
        "id": "nbNnPZ2gPT_W",
        "colab_type": "code",
        "outputId": "cc348512-e6ce-4fc4-d6ef-a6d375861218",
        "colab": {
          "base_uri": "https://localhost:8080/",
          "height": 34
        }
      },
      "source": [
        "import keras"
      ],
      "execution_count": 10,
      "outputs": [
        {
          "output_type": "stream",
          "text": [
            "Using TensorFlow backend.\n"
          ],
          "name": "stderr"
        }
      ]
    },
    {
      "cell_type": "code",
      "metadata": {
        "id": "0G4ebKiqPsQK",
        "colab_type": "code",
        "colab": {}
      },
      "source": [
        "#initialising neural network\n",
        "from keras.models import Sequential\n",
        "#creating hidden layers in NN\n",
        "from keras.layers import Dense"
      ],
      "execution_count": 0,
      "outputs": []
    },
    {
      "cell_type": "code",
      "metadata": {
        "id": "cHKTctshQK-m",
        "colab_type": "code",
        "colab": {}
      },
      "source": [
        " #defining ANN\n",
        "classifier = Sequential()\n"
      ],
      "execution_count": 0,
      "outputs": []
    },
    {
      "cell_type": "code",
      "metadata": {
        "id": "gH7LhgigSeYp",
        "colab_type": "code",
        "outputId": "a8dda2a6-ffae-4234-ae39-af32f1de62e1",
        "colab": {
          "base_uri": "https://localhost:8080/",
          "height": 34
        }
      },
      "source": [
        "X_train.shape"
      ],
      "execution_count": 16,
      "outputs": [
        {
          "output_type": "execute_result",
          "data": {
            "text/plain": [
              "(8000, 11)"
            ]
          },
          "metadata": {
            "tags": []
          },
          "execution_count": 16
        }
      ]
    },
    {
      "cell_type": "code",
      "metadata": {
        "id": "V8elVjxQS71E",
        "colab_type": "code",
        "outputId": "e31cd77d-737c-4f07-ccc6-0c398d7decb8",
        "colab": {
          "base_uri": "https://localhost:8080/",
          "height": 72
        }
      },
      "source": [
        "#adding input and 1one hidden layer\n",
        "#lidden layer nodes = input nodes+ output nodes//2    (11 + 1 // 2)\n",
        "#unifrom is used to initialize wieghts\n",
        "#input_dim is no of nodes in input layer\n",
        "classifier.add(Dense(output_dim = 6,init = 'uniform',activation = 'relu',input_dim = 11))\n"
      ],
      "execution_count": 17,
      "outputs": [
        {
          "output_type": "stream",
          "text": [
            "/usr/local/lib/python3.6/dist-packages/ipykernel_launcher.py:1: UserWarning: Update your `Dense` call to the Keras 2 API: `Dense(activation=\"relu\", input_dim=11, units=6, kernel_initializer=\"uniform\")`\n",
            "  \"\"\"Entry point for launching an IPython kernel.\n"
          ],
          "name": "stderr"
        }
      ]
    },
    {
      "cell_type": "code",
      "metadata": {
        "id": "xc0BjEkhYqqt",
        "colab_type": "code",
        "outputId": "5e093ffb-cf19-478a-b462-a90e0447e848",
        "colab": {
          "base_uri": "https://localhost:8080/",
          "height": 72
        }
      },
      "source": [
        "#add new hidden layer\n",
        "#note donot add input layer now it is already defined up\n",
        "classifier.add(Dense(output_dim = 6,init = 'uniform',activation = 'relu'))"
      ],
      "execution_count": 18,
      "outputs": [
        {
          "output_type": "stream",
          "text": [
            "/usr/local/lib/python3.6/dist-packages/ipykernel_launcher.py:1: UserWarning: Update your `Dense` call to the Keras 2 API: `Dense(activation=\"relu\", units=6, kernel_initializer=\"uniform\")`\n",
            "  \"\"\"Entry point for launching an IPython kernel.\n"
          ],
          "name": "stderr"
        }
      ]
    },
    {
      "cell_type": "code",
      "metadata": {
        "id": "LtFCCnhvY-hB",
        "colab_type": "code",
        "outputId": "8d53fa29-4a47-4564-b83c-4ecc64278bbb",
        "colab": {
          "base_uri": "https://localhost:8080/",
          "height": 72
        }
      },
      "source": [
        "#output layer\n",
        "  classifier.add(Dense(output_dim = 1,init = 'uniform',activation = \"sigmoid\" ))"
      ],
      "execution_count": 19,
      "outputs": [
        {
          "output_type": "stream",
          "text": [
            "/usr/local/lib/python3.6/dist-packages/ipykernel_launcher.py:1: UserWarning: Update your `Dense` call to the Keras 2 API: `Dense(activation=\"sigmoid\", units=1, kernel_initializer=\"uniform\")`\n",
            "  \"\"\"Entry point for launching an IPython kernel.\n"
          ],
          "name": "stderr"
        }
      ]
    },
    {
      "cell_type": "code",
      "metadata": {
        "id": "_l2lbZEtaObo",
        "colab_type": "code",
        "colab": {
          "base_uri": "https://localhost:8080/",
          "height": 158
        },
        "outputId": "47d3eb46-3265-4325-d2dd-1fc7ba4ca628"
      },
      "source": [
        "#compiling an ANN\n",
        "#optimizer is to select type of gradient descent used to change best weights\n",
        "#adam a type of stochatic gradient descent \n",
        "#2 categories in output so binary_crossentropy\n",
        "classifier.compile(optimizer = 'adam',loss = \"binary_crossentropy\",metrics = ['accuracy'])"
      ],
      "execution_count": 20,
      "outputs": [
        {
          "output_type": "stream",
          "text": [
            "W0801 09:06:59.114134 140105922811776 deprecation_wrapper.py:119] From /usr/local/lib/python3.6/dist-packages/keras/optimizers.py:790: The name tf.train.Optimizer is deprecated. Please use tf.compat.v1.train.Optimizer instead.\n",
            "\n",
            "W0801 09:06:59.141793 140105922811776 deprecation_wrapper.py:119] From /usr/local/lib/python3.6/dist-packages/keras/backend/tensorflow_backend.py:3376: The name tf.log is deprecated. Please use tf.math.log instead.\n",
            "\n",
            "W0801 09:06:59.149844 140105922811776 deprecation.py:323] From /usr/local/lib/python3.6/dist-packages/tensorflow/python/ops/nn_impl.py:180: add_dispatch_support.<locals>.wrapper (from tensorflow.python.ops.array_ops) is deprecated and will be removed in a future version.\n",
            "Instructions for updating:\n",
            "Use tf.where in 2.0, which has the same broadcast rule as np.where\n"
          ],
          "name": "stderr"
        }
      ]
    },
    {
      "cell_type": "code",
      "metadata": {
        "id": "uI7hlAzMc04D",
        "colab_type": "code",
        "outputId": "6de8922f-553d-4e25-fc72-83a4596e2a7b",
        "colab": {
          "base_uri": "https://localhost:8080/",
          "height": 1000
        }
      },
      "source": [
        "#fitting to train set\n",
        "classifier.fit(X_train,y_train,batch_size=10,nb_epoch=100)"
      ],
      "execution_count": 21,
      "outputs": [
        {
          "output_type": "stream",
          "text": [
            "/usr/local/lib/python3.6/dist-packages/ipykernel_launcher.py:1: UserWarning: The `nb_epoch` argument in `fit` has been renamed `epochs`.\n",
            "  \"\"\"Entry point for launching an IPython kernel.\n",
            "W0801 09:07:05.756822 140105922811776 deprecation_wrapper.py:119] From /usr/local/lib/python3.6/dist-packages/keras/backend/tensorflow_backend.py:986: The name tf.assign_add is deprecated. Please use tf.compat.v1.assign_add instead.\n",
            "\n"
          ],
          "name": "stderr"
        },
        {
          "output_type": "stream",
          "text": [
            "Epoch 1/100\n",
            "8000/8000 [==============================] - 2s 214us/step - loss: 0.4939 - acc: 0.7954\n",
            "Epoch 2/100\n",
            "8000/8000 [==============================] - 1s 112us/step - loss: 0.4294 - acc: 0.7960\n",
            "Epoch 3/100\n",
            "8000/8000 [==============================] - 1s 116us/step - loss: 0.4238 - acc: 0.7960\n",
            "Epoch 4/100\n",
            "8000/8000 [==============================] - 1s 112us/step - loss: 0.4194 - acc: 0.8082\n",
            "Epoch 5/100\n",
            "8000/8000 [==============================] - 1s 112us/step - loss: 0.4165 - acc: 0.8257\n",
            "Epoch 6/100\n",
            "8000/8000 [==============================] - 1s 112us/step - loss: 0.4143 - acc: 0.8279\n",
            "Epoch 7/100\n",
            "8000/8000 [==============================] - 1s 110us/step - loss: 0.4132 - acc: 0.8300\n",
            "Epoch 8/100\n",
            "8000/8000 [==============================] - 1s 112us/step - loss: 0.4117 - acc: 0.8324\n",
            "Epoch 9/100\n",
            "8000/8000 [==============================] - 1s 111us/step - loss: 0.4106 - acc: 0.8316\n",
            "Epoch 10/100\n",
            "8000/8000 [==============================] - 1s 111us/step - loss: 0.4098 - acc: 0.8331\n",
            "Epoch 11/100\n",
            "8000/8000 [==============================] - 1s 112us/step - loss: 0.4086 - acc: 0.8331\n",
            "Epoch 12/100\n",
            "8000/8000 [==============================] - 1s 112us/step - loss: 0.4077 - acc: 0.8327\n",
            "Epoch 13/100\n",
            "8000/8000 [==============================] - 1s 113us/step - loss: 0.4068 - acc: 0.8345\n",
            "Epoch 14/100\n",
            "8000/8000 [==============================] - 1s 112us/step - loss: 0.4067 - acc: 0.8347\n",
            "Epoch 15/100\n",
            "8000/8000 [==============================] - 1s 116us/step - loss: 0.4060 - acc: 0.8341\n",
            "Epoch 16/100\n",
            "8000/8000 [==============================] - 1s 112us/step - loss: 0.4054 - acc: 0.8357\n",
            "Epoch 17/100\n",
            "8000/8000 [==============================] - 1s 113us/step - loss: 0.4054 - acc: 0.8342\n",
            "Epoch 18/100\n",
            "8000/8000 [==============================] - 1s 111us/step - loss: 0.4045 - acc: 0.8341\n",
            "Epoch 19/100\n",
            "8000/8000 [==============================] - 1s 112us/step - loss: 0.4037 - acc: 0.8350\n",
            "Epoch 20/100\n",
            "8000/8000 [==============================] - 1s 112us/step - loss: 0.4043 - acc: 0.8351\n",
            "Epoch 21/100\n",
            "8000/8000 [==============================] - 1s 112us/step - loss: 0.4041 - acc: 0.8354\n",
            "Epoch 22/100\n",
            "8000/8000 [==============================] - 1s 110us/step - loss: 0.4033 - acc: 0.8350\n",
            "Epoch 23/100\n",
            "8000/8000 [==============================] - 1s 111us/step - loss: 0.4035 - acc: 0.8350\n",
            "Epoch 24/100\n",
            "8000/8000 [==============================] - 1s 111us/step - loss: 0.4030 - acc: 0.8346\n",
            "Epoch 25/100\n",
            "8000/8000 [==============================] - 1s 110us/step - loss: 0.4027 - acc: 0.8350\n",
            "Epoch 26/100\n",
            "8000/8000 [==============================] - 1s 112us/step - loss: 0.4027 - acc: 0.8349\n",
            "Epoch 27/100\n",
            "8000/8000 [==============================] - 1s 113us/step - loss: 0.4023 - acc: 0.8346\n",
            "Epoch 28/100\n",
            "8000/8000 [==============================] - 1s 111us/step - loss: 0.4024 - acc: 0.8344\n",
            "Epoch 29/100\n",
            "8000/8000 [==============================] - 1s 112us/step - loss: 0.4022 - acc: 0.8349\n",
            "Epoch 30/100\n",
            "8000/8000 [==============================] - 1s 112us/step - loss: 0.4019 - acc: 0.8352\n",
            "Epoch 31/100\n",
            "8000/8000 [==============================] - 1s 115us/step - loss: 0.4018 - acc: 0.8351\n",
            "Epoch 32/100\n",
            "8000/8000 [==============================] - 1s 112us/step - loss: 0.4014 - acc: 0.8339\n",
            "Epoch 33/100\n",
            "8000/8000 [==============================] - 1s 112us/step - loss: 0.4005 - acc: 0.8344\n",
            "Epoch 34/100\n",
            "8000/8000 [==============================] - 1s 113us/step - loss: 0.4000 - acc: 0.8359\n",
            "Epoch 35/100\n",
            "8000/8000 [==============================] - 1s 114us/step - loss: 0.3995 - acc: 0.8352\n",
            "Epoch 36/100\n",
            "8000/8000 [==============================] - 1s 112us/step - loss: 0.3994 - acc: 0.8350\n",
            "Epoch 37/100\n",
            "8000/8000 [==============================] - 1s 111us/step - loss: 0.3991 - acc: 0.8360\n",
            "Epoch 38/100\n",
            "8000/8000 [==============================] - 1s 113us/step - loss: 0.3982 - acc: 0.8350\n",
            "Epoch 39/100\n",
            "8000/8000 [==============================] - 1s 112us/step - loss: 0.3982 - acc: 0.8372\n",
            "Epoch 40/100\n",
            "8000/8000 [==============================] - 1s 113us/step - loss: 0.3978 - acc: 0.8349\n",
            "Epoch 41/100\n",
            "8000/8000 [==============================] - 1s 111us/step - loss: 0.3979 - acc: 0.8346\n",
            "Epoch 42/100\n",
            "8000/8000 [==============================] - 1s 113us/step - loss: 0.3972 - acc: 0.8357\n",
            "Epoch 43/100\n",
            "8000/8000 [==============================] - 1s 113us/step - loss: 0.3973 - acc: 0.8366\n",
            "Epoch 44/100\n",
            "8000/8000 [==============================] - 1s 113us/step - loss: 0.3968 - acc: 0.8359\n",
            "Epoch 45/100\n",
            "8000/8000 [==============================] - 1s 112us/step - loss: 0.3967 - acc: 0.8340\n",
            "Epoch 46/100\n",
            "8000/8000 [==============================] - 1s 112us/step - loss: 0.3968 - acc: 0.8336\n",
            "Epoch 47/100\n",
            "8000/8000 [==============================] - 1s 113us/step - loss: 0.3960 - acc: 0.8332\n",
            "Epoch 48/100\n",
            "8000/8000 [==============================] - 1s 114us/step - loss: 0.3957 - acc: 0.8346\n",
            "Epoch 49/100\n",
            "8000/8000 [==============================] - 1s 113us/step - loss: 0.3958 - acc: 0.8351\n",
            "Epoch 50/100\n",
            "8000/8000 [==============================] - 1s 112us/step - loss: 0.3956 - acc: 0.8344\n",
            "Epoch 51/100\n",
            "8000/8000 [==============================] - 1s 130us/step - loss: 0.3959 - acc: 0.8370\n",
            "Epoch 52/100\n",
            "8000/8000 [==============================] - 1s 152us/step - loss: 0.3953 - acc: 0.8359\n",
            "Epoch 53/100\n",
            "8000/8000 [==============================] - 1s 155us/step - loss: 0.3960 - acc: 0.8341\n",
            "Epoch 54/100\n",
            "8000/8000 [==============================] - 1s 108us/step - loss: 0.3950 - acc: 0.8357\n",
            "Epoch 55/100\n",
            "8000/8000 [==============================] - 1s 110us/step - loss: 0.3954 - acc: 0.8381\n",
            "Epoch 56/100\n",
            "8000/8000 [==============================] - 1s 111us/step - loss: 0.3950 - acc: 0.8349\n",
            "Epoch 57/100\n",
            "8000/8000 [==============================] - 1s 109us/step - loss: 0.3953 - acc: 0.8375\n",
            "Epoch 58/100\n",
            "8000/8000 [==============================] - 1s 112us/step - loss: 0.3947 - acc: 0.8357\n",
            "Epoch 59/100\n",
            "8000/8000 [==============================] - 1s 110us/step - loss: 0.3953 - acc: 0.8336\n",
            "Epoch 60/100\n",
            "8000/8000 [==============================] - 1s 107us/step - loss: 0.3942 - acc: 0.8362\n",
            "Epoch 61/100\n",
            "8000/8000 [==============================] - 1s 109us/step - loss: 0.3951 - acc: 0.8365\n",
            "Epoch 62/100\n",
            "8000/8000 [==============================] - 1s 108us/step - loss: 0.3949 - acc: 0.8356\n",
            "Epoch 63/100\n",
            "8000/8000 [==============================] - 1s 107us/step - loss: 0.3949 - acc: 0.8362\n",
            "Epoch 64/100\n",
            "8000/8000 [==============================] - 1s 109us/step - loss: 0.3945 - acc: 0.8362\n",
            "Epoch 65/100\n",
            "8000/8000 [==============================] - 1s 108us/step - loss: 0.3946 - acc: 0.8356\n",
            "Epoch 66/100\n",
            "8000/8000 [==============================] - 1s 110us/step - loss: 0.3948 - acc: 0.8349\n",
            "Epoch 67/100\n",
            "8000/8000 [==============================] - 1s 109us/step - loss: 0.3945 - acc: 0.8371\n",
            "Epoch 68/100\n",
            "8000/8000 [==============================] - 1s 109us/step - loss: 0.3951 - acc: 0.8356\n",
            "Epoch 69/100\n",
            "8000/8000 [==============================] - 1s 108us/step - loss: 0.3950 - acc: 0.8356\n",
            "Epoch 70/100\n",
            "8000/8000 [==============================] - 1s 110us/step - loss: 0.3950 - acc: 0.8342\n",
            "Epoch 71/100\n",
            "8000/8000 [==============================] - 1s 109us/step - loss: 0.3947 - acc: 0.8362\n",
            "Epoch 72/100\n",
            "8000/8000 [==============================] - 1s 108us/step - loss: 0.3944 - acc: 0.8365\n",
            "Epoch 73/100\n",
            "8000/8000 [==============================] - 1s 108us/step - loss: 0.3941 - acc: 0.8357\n",
            "Epoch 74/100\n",
            "8000/8000 [==============================] - 1s 111us/step - loss: 0.3947 - acc: 0.8364\n",
            "Epoch 75/100\n",
            "8000/8000 [==============================] - 1s 109us/step - loss: 0.3944 - acc: 0.8345\n",
            "Epoch 76/100\n",
            "8000/8000 [==============================] - 1s 110us/step - loss: 0.3943 - acc: 0.8362\n",
            "Epoch 77/100\n",
            "8000/8000 [==============================] - 1s 107us/step - loss: 0.3945 - acc: 0.8364\n",
            "Epoch 78/100\n",
            "8000/8000 [==============================] - 1s 109us/step - loss: 0.3943 - acc: 0.8356\n",
            "Epoch 79/100\n",
            "8000/8000 [==============================] - 1s 110us/step - loss: 0.3946 - acc: 0.8352\n",
            "Epoch 80/100\n",
            "8000/8000 [==============================] - 1s 109us/step - loss: 0.3942 - acc: 0.8344\n",
            "Epoch 81/100\n",
            "8000/8000 [==============================] - 1s 111us/step - loss: 0.3940 - acc: 0.8366\n",
            "Epoch 82/100\n",
            "8000/8000 [==============================] - 1s 108us/step - loss: 0.3943 - acc: 0.8354\n",
            "Epoch 83/100\n",
            "8000/8000 [==============================] - 1s 110us/step - loss: 0.3935 - acc: 0.8369\n",
            "Epoch 84/100\n",
            "8000/8000 [==============================] - 1s 109us/step - loss: 0.3943 - acc: 0.8349\n",
            "Epoch 85/100\n",
            "8000/8000 [==============================] - 1s 107us/step - loss: 0.3943 - acc: 0.8369\n",
            "Epoch 86/100\n",
            "8000/8000 [==============================] - 1s 110us/step - loss: 0.3938 - acc: 0.8341\n",
            "Epoch 87/100\n",
            "8000/8000 [==============================] - 1s 111us/step - loss: 0.3943 - acc: 0.8365\n",
            "Epoch 88/100\n",
            "8000/8000 [==============================] - 1s 111us/step - loss: 0.3937 - acc: 0.8371\n",
            "Epoch 89/100\n",
            "8000/8000 [==============================] - 1s 111us/step - loss: 0.3940 - acc: 0.8364\n",
            "Epoch 90/100\n",
            "8000/8000 [==============================] - 1s 108us/step - loss: 0.3943 - acc: 0.8355\n",
            "Epoch 91/100\n",
            "8000/8000 [==============================] - 1s 108us/step - loss: 0.3939 - acc: 0.8344\n",
            "Epoch 92/100\n",
            "8000/8000 [==============================] - 1s 109us/step - loss: 0.3947 - acc: 0.8364\n",
            "Epoch 93/100\n",
            "8000/8000 [==============================] - 1s 108us/step - loss: 0.3935 - acc: 0.8374\n",
            "Epoch 94/100\n",
            "8000/8000 [==============================] - 1s 108us/step - loss: 0.3937 - acc: 0.8366\n",
            "Epoch 95/100\n",
            "8000/8000 [==============================] - 1s 111us/step - loss: 0.3943 - acc: 0.8380\n",
            "Epoch 96/100\n",
            "8000/8000 [==============================] - 1s 109us/step - loss: 0.3937 - acc: 0.8361\n",
            "Epoch 97/100\n",
            "8000/8000 [==============================] - 1s 109us/step - loss: 0.3944 - acc: 0.8365\n",
            "Epoch 98/100\n",
            "8000/8000 [==============================] - 1s 107us/step - loss: 0.3937 - acc: 0.8365\n",
            "Epoch 99/100\n",
            "8000/8000 [==============================] - 1s 109us/step - loss: 0.3937 - acc: 0.8376\n",
            "Epoch 100/100\n",
            "8000/8000 [==============================] - 1s 107us/step - loss: 0.3935 - acc: 0.8360\n"
          ],
          "name": "stdout"
        },
        {
          "output_type": "execute_result",
          "data": {
            "text/plain": [
              "<keras.callbacks.History at 0x7f6cb1574ef0>"
            ]
          },
          "metadata": {
            "tags": []
          },
          "execution_count": 21
        }
      ]
    },
    {
      "cell_type": "code",
      "metadata": {
        "id": "3IyWUieudWKX",
        "colab_type": "code",
        "colab": {}
      },
      "source": [
        "#test\n",
        "y_pred = classifier.predict(X_test)"
      ],
      "execution_count": 0,
      "outputs": []
    },
    {
      "cell_type": "code",
      "metadata": {
        "id": "sTW2JE0feulF",
        "colab_type": "code",
        "outputId": "7d6e85bd-aa17-417e-aa20-a705afeceeab",
        "colab": {
          "base_uri": "https://localhost:8080/",
          "height": 138
        }
      },
      "source": [
        "print(y_pred)"
      ],
      "execution_count": 0,
      "outputs": [
        {
          "output_type": "stream",
          "text": [
            "[[0.16527775]\n",
            " [0.34796456]\n",
            " [0.15553918]\n",
            " ...\n",
            " [0.15665331]\n",
            " [0.14136821]\n",
            " [0.1054717 ]]\n"
          ],
          "name": "stdout"
        }
      ]
    },
    {
      "cell_type": "code",
      "metadata": {
        "id": "fqUQaupGexR_",
        "colab_type": "code",
        "colab": {}
      },
      "source": [
        "y_pred = (y_pred>0.5)"
      ],
      "execution_count": 0,
      "outputs": []
    },
    {
      "cell_type": "code",
      "metadata": {
        "id": "Nc4CEVKZmRG7",
        "colab_type": "code",
        "outputId": "50cc4827-dac6-41b1-b753-8170f96795a5",
        "colab": {
          "base_uri": "https://localhost:8080/",
          "height": 138
        }
      },
      "source": [
        "print(y_pred)"
      ],
      "execution_count": 0,
      "outputs": [
        {
          "output_type": "stream",
          "text": [
            "[[False]\n",
            " [False]\n",
            " [False]\n",
            " ...\n",
            " [False]\n",
            " [False]\n",
            " [False]]\n"
          ],
          "name": "stdout"
        }
      ]
    },
    {
      "cell_type": "code",
      "metadata": {
        "id": "F4JFn2ZymW0u",
        "colab_type": "code",
        "colab": {}
      },
      "source": [
        "from sklearn.metrics import confusion_matrix\n",
        "cm = confusion_matrix(y_test,y_pred)"
      ],
      "execution_count": 0,
      "outputs": []
    },
    {
      "cell_type": "code",
      "metadata": {
        "id": "_8sFqecxmplc",
        "colab_type": "code",
        "outputId": "e67e23ae-284b-457a-f158-e25b7b8e2186",
        "colab": {
          "base_uri": "https://localhost:8080/",
          "height": 52
        }
      },
      "source": [
        "print(cm)"
      ],
      "execution_count": 0,
      "outputs": [
        {
          "output_type": "stream",
          "text": [
            "[[1546   49]\n",
            " [ 269  136]]\n"
          ],
          "name": "stdout"
        }
      ]
    },
    {
      "cell_type": "code",
      "metadata": {
        "id": "C_UssDlDmrp7",
        "colab_type": "code",
        "outputId": "10dc01ba-2da1-4bd6-9c46-58888fa04103",
        "colab": {
          "base_uri": "https://localhost:8080/",
          "height": 34
        }
      },
      "source": [
        "(1546+136)/2000"
      ],
      "execution_count": 0,
      "outputs": [
        {
          "output_type": "execute_result",
          "data": {
            "text/plain": [
              "0.841"
            ]
          },
          "metadata": {
            "tags": []
          },
          "execution_count": 110
        }
      ]
    },
    {
      "cell_type": "code",
      "metadata": {
        "id": "4VKHDycnm5pi",
        "colab_type": "code",
        "colab": {}
      },
      "source": [
        ""
      ],
      "execution_count": 0,
      "outputs": []
    }
  ]
}